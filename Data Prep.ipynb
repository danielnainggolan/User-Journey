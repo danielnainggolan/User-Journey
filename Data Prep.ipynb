{
 "cells": [
  {
   "cell_type": "code",
   "execution_count": 1,
   "metadata": {},
   "outputs": [],
   "source": [
    "import pandas as pd"
   ]
  },
  {
   "cell_type": "code",
   "execution_count": 2,
   "metadata": {},
   "outputs": [
    {
     "data": {
      "text/html": [
       "<div>\n",
       "<style scoped>\n",
       "    .dataframe tbody tr th:only-of-type {\n",
       "        vertical-align: middle;\n",
       "    }\n",
       "\n",
       "    .dataframe tbody tr th {\n",
       "        vertical-align: top;\n",
       "    }\n",
       "\n",
       "    .dataframe thead th {\n",
       "        text-align: right;\n",
       "    }\n",
       "</style>\n",
       "<table border=\"1\" class=\"dataframe\">\n",
       "  <thead>\n",
       "    <tr style=\"text-align: right;\">\n",
       "      <th></th>\n",
       "      <th>Timestamp</th>\n",
       "      <th>car-id</th>\n",
       "      <th>car-type</th>\n",
       "      <th>gate-name</th>\n",
       "    </tr>\n",
       "  </thead>\n",
       "  <tbody>\n",
       "    <tr>\n",
       "      <th>0</th>\n",
       "      <td>2015-05-01 00:43:28</td>\n",
       "      <td>20154301124328-262</td>\n",
       "      <td>4</td>\n",
       "      <td>entrance3</td>\n",
       "    </tr>\n",
       "    <tr>\n",
       "      <th>1</th>\n",
       "      <td>2015-05-01 01:03:48</td>\n",
       "      <td>20154301124328-262</td>\n",
       "      <td>4</td>\n",
       "      <td>general-gate1</td>\n",
       "    </tr>\n",
       "    <tr>\n",
       "      <th>2</th>\n",
       "      <td>2015-05-01 01:06:24</td>\n",
       "      <td>20154301124328-262</td>\n",
       "      <td>4</td>\n",
       "      <td>ranger-stop2</td>\n",
       "    </tr>\n",
       "    <tr>\n",
       "      <th>3</th>\n",
       "      <td>2015-05-01 01:09:25</td>\n",
       "      <td>20154301124328-262</td>\n",
       "      <td>4</td>\n",
       "      <td>ranger-stop0</td>\n",
       "    </tr>\n",
       "    <tr>\n",
       "      <th>4</th>\n",
       "      <td>2015-05-01 01:12:36</td>\n",
       "      <td>20154301124328-262</td>\n",
       "      <td>4</td>\n",
       "      <td>general-gate2</td>\n",
       "    </tr>\n",
       "  </tbody>\n",
       "</table>\n",
       "</div>"
      ],
      "text/plain": [
       "             Timestamp              car-id car-type      gate-name\n",
       "0  2015-05-01 00:43:28  20154301124328-262        4      entrance3\n",
       "1  2015-05-01 01:03:48  20154301124328-262        4  general-gate1\n",
       "2  2015-05-01 01:06:24  20154301124328-262        4   ranger-stop2\n",
       "3  2015-05-01 01:09:25  20154301124328-262        4   ranger-stop0\n",
       "4  2015-05-01 01:12:36  20154301124328-262        4  general-gate2"
      ]
     },
     "execution_count": 2,
     "metadata": {},
     "output_type": "execute_result"
    }
   ],
   "source": [
    "df = pd.read_csv(\"Lekagul Sensor Data.csv\")\n",
    "df.head()"
   ]
  },
  {
   "cell_type": "code",
   "execution_count": 3,
   "metadata": {},
   "outputs": [
    {
     "data": {
      "text/html": [
       "<div>\n",
       "<style scoped>\n",
       "    .dataframe tbody tr th:only-of-type {\n",
       "        vertical-align: middle;\n",
       "    }\n",
       "\n",
       "    .dataframe tbody tr th {\n",
       "        vertical-align: top;\n",
       "    }\n",
       "\n",
       "    .dataframe thead th {\n",
       "        text-align: right;\n",
       "    }\n",
       "</style>\n",
       "<table border=\"1\" class=\"dataframe\">\n",
       "  <thead>\n",
       "    <tr style=\"text-align: right;\">\n",
       "      <th></th>\n",
       "      <th>Timestamp</th>\n",
       "      <th>car-id</th>\n",
       "      <th>car-type</th>\n",
       "      <th>gate-name</th>\n",
       "      <th>level</th>\n",
       "    </tr>\n",
       "  </thead>\n",
       "  <tbody>\n",
       "    <tr>\n",
       "      <th>171472</th>\n",
       "      <td>2016-05-31 23:40:13</td>\n",
       "      <td>20161031111001-854</td>\n",
       "      <td>6</td>\n",
       "      <td>ranger-stop2</td>\n",
       "      <td>4</td>\n",
       "    </tr>\n",
       "    <tr>\n",
       "      <th>171473</th>\n",
       "      <td>2016-05-31 23:42:08</td>\n",
       "      <td>20165831105856-579</td>\n",
       "      <td>1</td>\n",
       "      <td>general-gate4</td>\n",
       "      <td>6</td>\n",
       "    </tr>\n",
       "    <tr>\n",
       "      <th>171474</th>\n",
       "      <td>2016-05-31 23:43:13</td>\n",
       "      <td>20161031111001-854</td>\n",
       "      <td>6</td>\n",
       "      <td>general-gate1</td>\n",
       "      <td>5</td>\n",
       "    </tr>\n",
       "    <tr>\n",
       "      <th>171475</th>\n",
       "      <td>2016-05-31 23:49:45</td>\n",
       "      <td>20165831105856-579</td>\n",
       "      <td>1</td>\n",
       "      <td>general-gate7</td>\n",
       "      <td>7</td>\n",
       "    </tr>\n",
       "    <tr>\n",
       "      <th>171476</th>\n",
       "      <td>2016-05-31 23:56:06</td>\n",
       "      <td>20161031111001-854</td>\n",
       "      <td>6</td>\n",
       "      <td>general-gate4</td>\n",
       "      <td>6</td>\n",
       "    </tr>\n",
       "  </tbody>\n",
       "</table>\n",
       "</div>"
      ],
      "text/plain": [
       "                  Timestamp              car-id car-type      gate-name  level\n",
       "171472  2016-05-31 23:40:13  20161031111001-854        6   ranger-stop2      4\n",
       "171473  2016-05-31 23:42:08  20165831105856-579        1  general-gate4      6\n",
       "171474  2016-05-31 23:43:13  20161031111001-854        6  general-gate1      5\n",
       "171475  2016-05-31 23:49:45  20165831105856-579        1  general-gate7      7\n",
       "171476  2016-05-31 23:56:06  20161031111001-854        6  general-gate4      6"
      ]
     },
     "execution_count": 3,
     "metadata": {},
     "output_type": "execute_result"
    }
   ],
   "source": [
    "# df = df.sort_values(by=['car-id','Timestamp']).reset_index(drop=True)\n",
    "# df['route'] = \"\"\n",
    "df['level'] = df.sort_values(['Timestamp']).groupby(['car-id']).cumcount() + 1\n",
    "df.tail()"
   ]
  },
  {
   "cell_type": "code",
   "execution_count": null,
   "metadata": {},
   "outputs": [],
   "source": []
  }
 ],
 "metadata": {
  "kernelspec": {
   "display_name": "Python 3",
   "language": "python",
   "name": "python3"
  },
  "language_info": {
   "codemirror_mode": {
    "name": "ipython",
    "version": 3
   },
   "file_extension": ".py",
   "mimetype": "text/x-python",
   "name": "python",
   "nbconvert_exporter": "python",
   "pygments_lexer": "ipython3",
   "version": "3.6.2"
  }
 },
 "nbformat": 4,
 "nbformat_minor": 2
}
